{
 "cells": [
  {
   "cell_type": "code",
   "execution_count": null,
   "metadata": {
    "ExecuteTime": {
     "start_time": "2021-05-18T08:12:01.142Z"
    }
   },
   "outputs": [],
   "source": [
    "import pandas as pd\n",
    "import numpy as np\n",
    "import matplotlib.pyplot as plt\n",
    "import seaborn as sns\n",
    "pd.set_option('display.max_columns', 100)\n",
    "pd.set_option('display.max_rows', 100)"
   ]
  },
  {
   "cell_type": "code",
   "execution_count": null,
   "metadata": {
    "ExecuteTime": {
     "start_time": "2021-05-18T08:12:01.145Z"
    }
   },
   "outputs": [],
   "source": [
    "df_schools = pd.read_csv(\"Masterlist of Schools.csv\", index_col=\"school.id\")\n",
    "\n",
    "df_location = pd.read_csv(\"Schools Location Data.csv\", \n",
    "                          encoding = \"latin-1\", \n",
    "                          index_col=\"School ID\",\n",
    "                          usecols=[\"School ID\", \"Enrolment\", \"Latitude\", \"Longitude\"])\n",
    "\n",
    "df_rooms = pd.read_csv('Rooms data.csv', index_col=\"School ID\")\n",
    "\n",
    "df_teachers = pd.read_csv(\"Teachers data.csv\", index_col=\"school.id\")\n",
    "\n",
    "df_elementary = pd.read_csv(\"Enrollment Master Data_2015_E.csv\")[:-1].astype(int).set_index(\"School ID\")\n",
    "\n",
    "df_secondary = (pd.read_csv('Enrollment Master Data_2015_S.csv')[:-1]\n",
    "                  .replace(\",\", \"\", regex=True)\n",
    "                  .astype(int)\n",
    "                  .replace(\"SPED NG Male\", \"SPED NG Male SS\")\n",
    "                  .replace(\"SPED NG Female\", \"SPED NG Female SS\")\n",
    "                  .set_index(\"School ID\"))\n",
    "\n",
    "df_mooe = (pd.read_csv('MOOE data.csv', index_col=\"school.id\", usecols=[\"school.id\", \" school.mooe \"])\n",
    "             .replace(\",\", \"\", regex=True).astype(float))"
   ]
  },
  {
   "cell_type": "code",
   "execution_count": null,
   "metadata": {
    "ExecuteTime": {
     "start_time": "2021-05-18T08:12:01.157Z"
    }
   },
   "outputs": [],
   "source": [
    "df_all = pd.concat([df_schools, df_location, df_rooms, df_teachers, df_elementary, df_secondary, df_mooe], axis=1)\n",
    "df_all"
   ]
  },
  {
   "cell_type": "code",
   "execution_count": null,
   "metadata": {
    "ExecuteTime": {
     "start_time": "2021-05-18T08:12:01.160Z"
    }
   },
   "outputs": [],
   "source": [
    "df_all.shape"
   ]
  },
  {
   "cell_type": "code",
   "execution_count": null,
   "metadata": {
    "ExecuteTime": {
     "start_time": "2021-05-18T08:12:01.162Z"
    }
   },
   "outputs": [],
   "source": [
    "df_all.isna().sum()"
   ]
  },
  {
   "cell_type": "code",
   "execution_count": null,
   "metadata": {
    "ExecuteTime": {
     "start_time": "2021-05-18T08:12:01.167Z"
    }
   },
   "outputs": [],
   "source": [
    "df_all[df_all.index.duplicated(keep=False)]"
   ]
  },
  {
   "cell_type": "code",
   "execution_count": null,
   "metadata": {
    "ExecuteTime": {
     "start_time": "2021-05-18T08:12:01.170Z"
    }
   },
   "outputs": [],
   "source": [
    "df_all.columns"
   ]
  },
  {
   "cell_type": "markdown",
   "metadata": {},
   "source": [
    "Let's try to explore the data for both elementary and secondary school"
   ]
  },
  {
   "cell_type": "code",
   "execution_count": null,
   "metadata": {
    "ExecuteTime": {
     "start_time": "2021-05-18T08:12:01.176Z"
    }
   },
   "outputs": [],
   "source": [
    "# Obtain all numeric features + school.classification\n",
    "df_numeric = df_all[['rooms.standard.academic', 'rooms.standard.unused',\n",
    "       'rooms.nonstandard.academic', 'rooms.nonstandard.unused',\n",
    "       'teachers.instructor', 'teachers.mobile', 'teachers.regular',\n",
    "       'teachers.sped','Enrolment', ' school.mooe ', 'school.classification']]\n",
    "df_numeric"
   ]
  },
  {
   "cell_type": "code",
   "execution_count": null,
   "metadata": {
    "ExecuteTime": {
     "start_time": "2021-05-18T08:12:01.180Z"
    }
   },
   "outputs": [],
   "source": [
    "# Combine all rooms and all teachers\n",
    "df_numeric[\"rooms_total\"] = (df_numeric['rooms.standard.academic'] + \n",
    "                             df_numeric['rooms.standard.unused'] + \n",
    "                             df_numeric['rooms.nonstandard.academic'] + \n",
    "                             df_numeric['rooms.nonstandard.unused'])\n",
    "\n",
    "df_numeric[\"teachers_total\"] = (df_numeric['teachers.instructor'] + \n",
    "                             df_numeric['teachers.mobile'] + \n",
    "                             df_numeric['teachers.regular'] + \n",
    "                             df_numeric['teachers.sped'])\n",
    "df_final = df_numeric.iloc[:, 8:]\n",
    "df_final"
   ]
  },
  {
   "cell_type": "markdown",
   "metadata": {},
   "source": [
    "Let's find the missing values"
   ]
  },
  {
   "cell_type": "code",
   "execution_count": null,
   "metadata": {
    "ExecuteTime": {
     "start_time": "2021-05-18T08:12:01.184Z"
    }
   },
   "outputs": [],
   "source": [
    "df_final.isna().sum()"
   ]
  },
  {
   "cell_type": "code",
   "execution_count": null,
   "metadata": {
    "ExecuteTime": {
     "start_time": "2021-05-18T08:12:01.189Z"
    }
   },
   "outputs": [],
   "source": [
    "df_final_clean = df_final.dropna()\n",
    "print(df_final_clean.shape)\n",
    "df_final.isna().sum()"
   ]
  },
  {
   "cell_type": "code",
   "execution_count": null,
   "metadata": {
    "ExecuteTime": {
     "start_time": "2021-05-18T08:12:01.192Z"
    }
   },
   "outputs": [],
   "source": [
    "index_name = (df_final_clean[(df_final_clean[\"Enrolment\"]==0.0) | \n",
    "                             (df_final_clean[\"teachers_total\"]==0.0) |\n",
    "                             (df_final_clean[\"rooms_total\"]==0.0)].index)\n",
    "index_name"
   ]
  },
  {
   "cell_type": "code",
   "execution_count": null,
   "metadata": {
    "ExecuteTime": {
     "start_time": "2021-05-18T08:12:01.198Z"
    }
   },
   "outputs": [],
   "source": [
    "df_final_clean = df_final_clean.drop(index_name)\n",
    "df_final_clean.shape[0]"
   ]
  },
  {
   "cell_type": "code",
   "execution_count": null,
   "metadata": {
    "ExecuteTime": {
     "start_time": "2021-05-18T08:12:01.201Z"
    },
    "scrolled": true
   },
   "outputs": [],
   "source": [
    "dropped_rows = df_final.shape[0] - df_final_clean.shape[0]\n",
    "dropped_rows"
   ]
  },
  {
   "cell_type": "code",
   "execution_count": null,
   "metadata": {
    "ExecuteTime": {
     "start_time": "2021-05-18T08:12:01.203Z"
    }
   },
   "outputs": [],
   "source": [
    "dropped_rows/df_final.shape[0]*100"
   ]
  },
  {
   "cell_type": "code",
   "execution_count": null,
   "metadata": {
    "ExecuteTime": {
     "start_time": "2021-05-18T08:12:01.206Z"
    }
   },
   "outputs": [],
   "source": [
    "df_ratio_ss = df_final_clean[df_final_clean[\"school.classification\"]=='Secondary'].drop(columns=[\"school.classification\"])"
   ]
  },
  {
   "cell_type": "code",
   "execution_count": null,
   "metadata": {
    "ExecuteTime": {
     "start_time": "2021-05-18T08:12:01.210Z"
    }
   },
   "outputs": [],
   "source": [
    "melted = df_ratio_ss.melt()\n",
    "\n",
    "sns.boxplot(melted.variable, melted.value)"
   ]
  },
  {
   "cell_type": "code",
   "execution_count": null,
   "metadata": {
    "ExecuteTime": {
     "start_time": "2021-05-18T08:12:01.214Z"
    }
   },
   "outputs": [],
   "source": [
    "# Insert code here\n",
    "# Removing (statistical) outliers for Amount\n",
    "Q1 = df_ratio_ss[' school.mooe '].quantile(0.05)\n",
    "Q3 = df_ratio_ss[' school.mooe '].quantile(0.95)\n",
    "IQR = Q3 - Q1\n",
    "df_ratio_ss = (df_ratio_ss[(df_ratio_ss[' school.mooe '] >= Q1 - 1.5*IQR) & \n",
    "                           (df_ratio_ss[' school.mooe '] <= Q3 + 1.5*IQR)])\n"
   ]
  },
  {
   "cell_type": "code",
   "execution_count": null,
   "metadata": {
    "ExecuteTime": {
     "start_time": "2021-05-18T08:12:01.216Z"
    }
   },
   "outputs": [],
   "source": [
    "from mpl_toolkits.mplot3d import Axes3D\n",
    "\n",
    "fig = plt.figure(figsize=(15, 10))\n",
    "ax = fig.add_subplot(111, projection='3d')\n",
    "\n",
    "teacher = df_ratio_ss.teachers_total\n",
    "room = df_ratio_ss.rooms_total\n",
    "budget = df_ratio_ss[' school.mooe ']\n",
    "ax.scatter(teacher, room, budget, s=5)\n",
    "\n",
    "ax.set_xlabel('Teacher')\n",
    "ax.set_ylabel('Room')\n",
    "ax.set_zlabel('Budget')\n",
    "\n",
    "plt.show()"
   ]
  },
  {
   "cell_type": "code",
   "execution_count": null,
   "metadata": {
    "ExecuteTime": {
     "start_time": "2021-05-18T08:12:01.219Z"
    }
   },
   "outputs": [],
   "source": [
    "from sklearn.preprocessing import StandardScaler\n",
    "\n",
    "scaler = __________________\n",
    "df_scaled_ss = scaler.______________(df_ratio_ss)"
   ]
  },
  {
   "cell_type": "code",
   "execution_count": null,
   "metadata": {
    "ExecuteTime": {
     "start_time": "2021-05-18T08:12:01.225Z"
    }
   },
   "outputs": [],
   "source": [
    "print(df_scaled_ss.min())\n",
    "print(df_scaled_ss.max())"
   ]
  },
  {
   "cell_type": "code",
   "execution_count": null,
   "metadata": {
    "ExecuteTime": {
     "start_time": "2021-05-18T08:12:01.230Z"
    }
   },
   "outputs": [],
   "source": [
    "from sklearn.cluster import KMeans\n",
    "\n",
    "model = __________\n",
    "model._________(df_scaled_ss)\n",
    "cluster_labels = model.____________(df_scaled_ss)   \n"
   ]
  },
  {
   "cell_type": "code",
   "execution_count": null,
   "metadata": {
    "ExecuteTime": {
     "start_time": "2021-05-18T08:12:01.232Z"
    }
   },
   "outputs": [],
   "source": [
    "from sklearn.cluster import KMeans\n",
    "\n",
    "ssd = []\n",
    "range_n_clusters = list(np.arange(1,16))\n",
    "\n",
    "for num_clusters in ____________:\n",
    "    kmeans = ___________________\n",
    "    kmeans.______(df_scaled_ss)\n",
    "    \n",
    "    ssd.append(____________)\n",
    "    \n",
    "# plot the SSDs for each n_clusters\n",
    "plt.plot(ssd)"
   ]
  },
  {
   "cell_type": "code",
   "execution_count": null,
   "metadata": {
    "ExecuteTime": {
     "start_time": "2021-05-18T08:12:01.235Z"
    }
   },
   "outputs": [],
   "source": [
    "kmeans = _____________________\n",
    "kmeans.___________(df_scaled_ss)\n",
    "cluster_labels = kmeans.__________(df_scaled_ss)   \n",
    "\n",
    "df_ratio_ss['Cluster_Labels'] = cluster_labels\n",
    "df_ratio_ss['Cluster_Labels'].value_counts()"
   ]
  },
  {
   "cell_type": "code",
   "execution_count": null,
   "metadata": {
    "ExecuteTime": {
     "start_time": "2021-05-18T08:12:01.237Z"
    }
   },
   "outputs": [],
   "source": [
    "from sklearn.metrics import silhouette_score\n",
    "from sklearn.metrics import silhouette_samples\n",
    "range_n_clusters = list(np.arange(2,9))\n",
    "\n",
    "for num_clusters in range_n_clusters:\n",
    "    \n",
    "    # intialise kmeans\n",
    "    kmeans = ___________________\n",
    "    kmeans._________(df_scaled_ss)\n",
    "    \n",
    "    cluster_labels = kmeans.__________(df_scaled_ss)\n",
    "    \n",
    "    # silhouette score\n",
    "    silhouette_avg = __________(df_scaled_ss, cluster_labels)\n",
    "    print(\"For n_clusters={0}, the silhouette score is {1}\".format(num_clusters, silhouette_avg))"
   ]
  },
  {
   "cell_type": "code",
   "execution_count": null,
   "metadata": {
    "ExecuteTime": {
     "start_time": "2021-05-18T08:12:01.241Z"
    }
   },
   "outputs": [],
   "source": [
    "from scipy.cluster.hierarchy import linkage\n",
    "from scipy.cluster.hierarchy import dendrogram\n",
    "from scipy.cluster.hierarchy import cut_tree"
   ]
  },
  {
   "cell_type": "code",
   "execution_count": null,
   "metadata": {
    "ExecuteTime": {
     "start_time": "2021-05-18T08:12:01.242Z"
    }
   },
   "outputs": [],
   "source": [
    "mergings = linkage(df_scaled_ss, method=\"single\", metric='euclidean')\n",
    "\n",
    "dendrogram(mergings, p=10, truncate_mode=\"level\", leaf_rotation=90)\n",
    "plt.show()"
   ]
  },
  {
   "cell_type": "code",
   "execution_count": null,
   "metadata": {
    "ExecuteTime": {
     "start_time": "2021-05-18T08:12:01.246Z"
    }
   },
   "outputs": [],
   "source": [
    "mergings = linkage(df_scaled_ss, method=\"complete\", metric='euclidean')\n",
    "dendrogram(mergings, p=10, truncate_mode=\"level\")\n",
    "plt.show()"
   ]
  },
  {
   "cell_type": "code",
   "execution_count": null,
   "metadata": {
    "ExecuteTime": {
     "start_time": "2021-05-18T08:12:01.248Z"
    },
    "scrolled": true
   },
   "outputs": [],
   "source": [
    "mergings = linkage(df_scaled_ss, method=\"average\", metric='euclidean')\n",
    "dendrogram(mergings, p=10, truncate_mode=\"level\")\n",
    "plt.show()"
   ]
  },
  {
   "cell_type": "code",
   "execution_count": null,
   "metadata": {
    "ExecuteTime": {
     "start_time": "2021-05-18T08:12:01.250Z"
    }
   },
   "outputs": [],
   "source": [
    "cluster_labels = cut_tree(mergings, n_clusters=3).reshape(-1, )"
   ]
  },
  {
   "cell_type": "code",
   "execution_count": null,
   "metadata": {
    "ExecuteTime": {
     "start_time": "2021-05-18T08:12:01.255Z"
    }
   },
   "outputs": [],
   "source": [
    "df_ratio_ss['Cluster_Labels'] = cluster_labels"
   ]
  },
  {
   "cell_type": "code",
   "execution_count": null,
   "metadata": {
    "ExecuteTime": {
     "start_time": "2021-05-18T08:12:01.258Z"
    }
   },
   "outputs": [],
   "source": [
    "df_ratio_ss['Cluster_Labels'].value_counts()"
   ]
  },
  {
   "cell_type": "code",
   "execution_count": null,
   "metadata": {
    "ExecuteTime": {
     "start_time": "2021-05-18T08:12:01.267Z"
    }
   },
   "outputs": [],
   "source": [
    "df_ratio_ss[df_ratio_ss['Cluster_Labels']==0]"
   ]
  },
  {
   "cell_type": "code",
   "execution_count": null,
   "metadata": {
    "ExecuteTime": {
     "start_time": "2021-05-18T08:12:01.274Z"
    }
   },
   "outputs": [],
   "source": [
    "df_ratio_ss[df_ratio_ss['Cluster_Labels']==1]"
   ]
  },
  {
   "cell_type": "code",
   "execution_count": null,
   "metadata": {
    "ExecuteTime": {
     "start_time": "2021-05-18T08:12:01.278Z"
    }
   },
   "outputs": [],
   "source": [
    "df_ratio_ss[df_ratio_ss['Cluster_Labels']==2]"
   ]
  },
  {
   "cell_type": "code",
   "execution_count": null,
   "metadata": {
    "ExecuteTime": {
     "start_time": "2021-05-18T08:12:01.292Z"
    }
   },
   "outputs": [],
   "source": [
    "from sklearn.cluster import DBSCAN\n",
    "\n",
    "dbs = _______________\n",
    "dbs_labels = dbs.__________(df_scaled_ss)   \n",
    "\n",
    "df_ratio_ss['DBS_Labels'] = dbs_labels\n",
    "df_ratio_ss['DBS_Labels'].value_counts()\n"
   ]
  },
  {
   "cell_type": "code",
   "execution_count": null,
   "metadata": {
    "ExecuteTime": {
     "start_time": "2021-05-18T08:12:01.306Z"
    }
   },
   "outputs": [],
   "source": [
    "from sklearn.neighbors import NearestNeighbors\n",
    "from kneed import KneeLocator\n",
    "\n",
    "nearest_neighbors = NearestNeighbors(n_neighbors=11)\n",
    "neighbors = nearest_neighbors.fit(df_scaled_ss)\n",
    "distances, indices = neighbors.kneighbors(df_scaled_ss)\n",
    "distances = np.sort(distances[:, 10], axis=0)\n",
    "\n",
    "i = np.arange(len(distances))\n",
    "knee = KneeLocator(i, distances, S=1, curve='convex', direction='increasing', interp_method='polynomial')\n",
    "\n",
    "fig = plt.figure(figsize=(5, 5))\n",
    "knee.plot_knee()\n",
    "plt.xlabel(\"Points\")\n",
    "plt.ylabel(\"Distance\")\n",
    "\n",
    "print(distances[knee.knee])"
   ]
  },
  {
   "cell_type": "markdown",
   "metadata": {},
   "source": [
    "## Try it yourself"
   ]
  },
  {
   "cell_type": "markdown",
   "metadata": {},
   "source": [
    "- Does it makes sense to use the raw numbers as features? What can be an alternative to the raw numbers?\n",
    "- Are there outliers in the other features as well?\n",
    "- Try exploring different number of clusters. How many clusters can you characterize?\n",
    "- Try playing with different hierarchical methods. Which gives the best result?\n",
    "- Try playing with the eps. Can you still create a better model?"
   ]
  },
  {
   "cell_type": "markdown",
   "metadata": {},
   "source": [
    "## Interpreting clusters"
   ]
  },
  {
   "cell_type": "code",
   "execution_count": null,
   "metadata": {
    "ExecuteTime": {
     "start_time": "2021-05-18T08:12:01.314Z"
    }
   },
   "outputs": [],
   "source": [
    "import seaborn as sns\n",
    "fig, axes = plt.subplots(nrows=2, ncols=2, figsize=(12,8))\n",
    "\n",
    "sns.boxplot(x=\"Cluster_Labels\", y=\"Enrolment\", data=df_ratio_ss, ax=axes[0,0])\n",
    "axes[0,0].set_title(\"Enrolment\", fontsize=16)\n",
    "\n",
    "sns.boxplot(x=df_ratio_ss.Cluster_Labels, y=df_ratio_ss[\" school.mooe \"], ax=axes[0,1])\n",
    "axes[0,1].set_title(\"MOOE\", fontsize=16)\n",
    "\n",
    "sns.boxplot(x=df_ratio_ss.Cluster_Labels, y=df_ratio_ss.rooms_total, ax=axes[1,0])\n",
    "axes[1,0].set_title(\"Rooms\", fontsize=16)\n",
    "\n",
    "sns.boxplot(x=df_ratio_ss.Cluster_Labels, y=df_ratio_ss.teachers_total, ax=axes[1,1])\n",
    "axes[1,1].set_title(\"Teachers\", fontsize=16)\n",
    "\n",
    "plt.tight_layout()\n",
    "plt.show();"
   ]
  },
  {
   "cell_type": "markdown",
   "metadata": {},
   "source": [
    "#### Radar Chart"
   ]
  },
  {
   "cell_type": "code",
   "execution_count": null,
   "metadata": {
    "ExecuteTime": {
     "start_time": "2021-05-18T08:12:01.319Z"
    }
   },
   "outputs": [],
   "source": [
    "from sklearn.preprocessing import MinMaxScaler\n",
    "\n",
    "scaler = MinMaxScaler()\n",
    "df_minmax = scaler.fit_transform(df_ratio_ss)\n",
    "\n",
    "df_minmax = pd.DataFrame(df_minmax, index=df_ratio_ss.index, columns=df_ratio_ss.columns)\n",
    "\n",
    "df_minmax['Cluster_Labels'] = cluster_labels\n",
    "\n",
    "df_clusters = df_minmax.set_index(\"Cluster_Labels\")\n",
    "df_clusters = df_clusters.groupby(\"Cluster_Labels\").mean().reset_index()\n",
    "df_clusters"
   ]
  },
  {
   "cell_type": "code",
   "execution_count": null,
   "metadata": {
    "ExecuteTime": {
     "start_time": "2021-05-18T08:12:01.325Z"
    }
   },
   "outputs": [],
   "source": [
    "from math import pi\n",
    "def make_spider(row, title, color):\n",
    " \n",
    "    # number of variable\n",
    "    categories=list(df_clusters)[1:]\n",
    "    N = len(categories)\n",
    " \n",
    "    # What will be the angle of each axis in the plot? (we divide the plot / number of variable)\n",
    "    angles = [n / float(N) * 2 * pi for n in range(N)]\n",
    "    angles += angles[:1]\n",
    " \n",
    "    # Initialise the spider plot\n",
    "    ax = plt.subplot(3,3,row+1, polar=True )\n",
    " \n",
    "    # If you want the first axis to be on top:\n",
    "    ax.set_theta_offset(pi / 3.5)\n",
    "    ax.set_theta_direction(-1)\n",
    "    \n",
    "    # Draw one axe per variable + add labels labels yet\n",
    "    plt.xticks(angles[:-1], categories, color='grey', size=8)\n",
    " \n",
    "    # Draw ylabels\n",
    "    ax.set_rlabel_position(0)\n",
    "#     plt.yticks([-2, -1, 0, 1, 2], [-2,-1, 0, 1, 2], color=\"grey\", size=7) #for sscaled\n",
    "#     plt.ylim(-2.5,2.5)\n",
    "    plt.yticks([-0.25, 0, 0.25, 0.5, 0.75, 1], [-0.25, 0, 0.25, 0.5,0.75, 1], color=\"grey\", size=7) #formmscaled\n",
    "    plt.ylim(-0.25,1)\n",
    "\n",
    "    # Ind1\n",
    "    values=df_clusters.loc[row].drop('Cluster_Labels').values.flatten().tolist()\n",
    "    values += values[:1]\n",
    "    ax.plot(angles, values, color=color, linewidth=2, linestyle='solid')\n",
    "    ax.fill(angles, values, color=color, alpha=0.4)\n",
    " \n",
    "    # Add a title\n",
    "    plt.title(title, size=14, color=color, y=1.1)\n",
    " \n",
    "    "
   ]
  },
  {
   "cell_type": "code",
   "execution_count": null,
   "metadata": {
    "ExecuteTime": {
     "start_time": "2021-05-18T08:12:01.330Z"
    }
   },
   "outputs": [],
   "source": [
    "my_dpi=100\n",
    "plt.figure(figsize=(1000/my_dpi, 1000/my_dpi), dpi=my_dpi)\n",
    "plt.subplots_adjust(hspace=0.5)\n",
    "\n",
    "# Create a color palette:\n",
    "my_palette = plt.cm.get_cmap(\"Set2\", len(df_clusters.index))\n",
    "\n",
    "for row in range(0, len(df_clusters.index)):\n",
    "    make_spider(row=row, \n",
    "                title='Segment '+(df_clusters['Cluster_Labels'][row]).astype(str), \n",
    "                color=my_palette(row))"
   ]
  },
  {
   "cell_type": "code",
   "execution_count": null,
   "metadata": {},
   "outputs": [],
   "source": []
  }
 ],
 "metadata": {
  "kernelspec": {
   "display_name": "Python 3",
   "language": "python",
   "name": "python3"
  },
  "language_info": {
   "codemirror_mode": {
    "name": "ipython",
    "version": 3
   },
   "file_extension": ".py",
   "mimetype": "text/x-python",
   "name": "python",
   "nbconvert_exporter": "python",
   "pygments_lexer": "ipython3",
   "version": "3.7.7"
  }
 },
 "nbformat": 4,
 "nbformat_minor": 2
}
